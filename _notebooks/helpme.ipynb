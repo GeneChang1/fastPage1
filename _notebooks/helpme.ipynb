{
 "cells": [
  {
   "cell_type": "markdown",
   "metadata": {},
   "source": [
    "# Application Programming Interface (API)\n",
    "> APIs can be found all over the internet.  A great consolidator of many APIs is <mark>RapidAPI</mark>.  In this blog we will use a site to consolidates API stats.  Learning a few lines of code and you can start extracting lots of data from the internet via APIs.  \n",
    "- title: Python RapidAPI\n",
    "- toc: true\n",
    "- image: /images/rapidapi.png\n",
    "- permalink: /techtalk/rapidapi\n",
    "- categories: [1.A, 5.B, 5.D]\n",
    "- tags: [api, rapidapi]\n",
    "- type: pbl\n",
    "- week: 7"
   ]
  },
  {
   "cell_type": "code",
   "execution_count": 1,
   "metadata": {},
   "outputs": [
    {
     "name": "stdout",
     "output_type": "stream",
     "text": [
      "{\"d\":[{\"i\":{\"height\":2048,\"imageUrl\":\"https://m.media-amazon.com/images/M/MV5BZjdkYjg1NzMtOTY2YS00ZWI1LWEwZWYtOTU1YTM2ODA2ZWY5XkEyXkFqcGdeQXVyMTM1MjAxMDc3._V1_.jpg\",\"width\":1536},\"id\":\"nm0695435\",\"l\":\"Chris Pratt\",\"rank\":113,\"s\":\"Actor, Guardians of the Galaxy (2014)\"},{\"id\":\"nm9985479\",\"l\":\"Chris Pratt\",\"rank\":92249,\"s\":\"Actor, Christopher Robin (2018)\"},{\"id\":\"nm2212645\",\"l\":\"Chris Pratt\",\"rank\":168083,\"s\":\"Actor, Motorcycle (2006)\"},{\"id\":\"nm8802752\",\"l\":\"Chris Pratt\",\"rank\":431449},{\"i\":{\"height\":800,\"imageUrl\":\"https://m.media-amazon.com/images/M/MV5BZWE4MTEyM2YtOGNhNS00NmZkLWI1NjktNzlmZDcxZjM1ODc2XkEyXkFqcGdeQXVyMTA3NzIyMDM0._V1_.jpg\",\"width\":800},\"id\":\"nm7947770\",\"l\":\"Chris Pratt\",\"rank\":535176,\"s\":\"Music Department, Deviant Love (2019)\"},{\"id\":\"tt6667532\",\"l\":\"Passengers: On the Set with Chris Pratt\",\"q\":\"video\",\"qid\":\"video\",\"rank\":677160,\"s\":\"Chris Pratt, Greg Baxter\",\"y\":2017},{\"i\":{\"height\":1489,\"imageUrl\":\"https://m.media-amazon.com/images/M/MV5BZjU2NjFhNDQtNzZkMS00NzIxLTllNTAtODEzNzBmOGJhNmZhXkEyXkFqcGdeQXVyMjQ0NzE0MQ@@._V1_.jpg\",\"width\":1169},\"id\":\"tt5301518\",\"l\":\"Jurassic World: Innovation Center Tour with Chris Pratt\",\"q\":\"video\",\"qid\":\"video\",\"rank\":502130,\"s\":\"Chris Pratt, Colin Trevorrow\",\"y\":2015},{\"id\":\"nm9972450\",\"l\":\"Chris Pratt\",\"rank\":1173487,\"s\":\"Costume Department, Auto (2017)\"}],\"q\":\"chris%20pratt\",\"v\":1}\n"
     ]
    }
   ],
   "source": [
    "import requests\n",
    "\n",
    "url = \"https://imdb8.p.rapidapi.com/auto-complete\"\n",
    "\n",
    "querystring = {\"q\":\"Chris Pratt\"}\n",
    "\n",
    "headers = {\n",
    "\t\"X-RapidAPI-Key\": \"72b85464fcmsh525da0513109f2cp1d08fejsn081a3095bf66\",\n",
    "\t\"X-RapidAPI-Host\": \"imdb8.p.rapidapi.com\"\n",
    "}\n",
    "\n",
    "response = requests.request(\"GET\", url, headers=headers, params=querystring)\n",
    "\n",
    "print(response.text)\n"
   ]
  }
 ],
 "metadata": {
  "kernelspec": {
   "display_name": "Python 3.8.9 64-bit",
   "language": "python",
   "name": "python3"
  },
  "language_info": {
   "codemirror_mode": {
    "name": "ipython",
    "version": 3
   },
   "file_extension": ".py",
   "mimetype": "text/x-python",
   "name": "python",
   "nbconvert_exporter": "python",
   "pygments_lexer": "ipython3",
   "version": "3.8.9"
  },
  "orig_nbformat": 4,
  "vscode": {
   "interpreter": {
    "hash": "31f2aee4e71d21fbe5cf8b01ff0e069b9275f58929596ceb00d14d90e3e16cd6"
   }
  }
 },
 "nbformat": 4,
 "nbformat_minor": 2
}
