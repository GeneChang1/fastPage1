{
 "cells": [
  {
   "cell_type": "markdown",
   "metadata": {},
   "source": [
    "# Psychology and the Good Life\n",
    "\n",
    "- Notes I guess\n",
    "\n",
    "The Video is on a Yale prof. guiding on through the processes that help one through their life: how to live it the most stress free and the happiest. Her main point is the surprise she found surveying the students abroad the campus, the way they made their life worse for themselves. \n",
    "\n",
    "/ One thing that was immediately noticable was the difference between those who worked to improve and those who did not. \n",
    "/ Form an attitude to reduce stress in life. The student environment breeds unhealthy behavior. \n",
    "/ Strive for greatness, don't let the expectations of others get you down \n",
    "/ Focus, ask questions, and take the most out of the time given to you\n",
    "/ \n",
    "\n",
    "- Outtakes: \n",
    "/ Work on focusing during classtime. \n"
   ]
  }
 ],
 "metadata": {
  "kernelspec": {
   "display_name": "Python 3.8.9 64-bit",
   "language": "python",
   "name": "python3"
  },
  "language_info": {
   "name": "python",
   "version": "3.8.9"
  },
  "orig_nbformat": 4,
  "vscode": {
   "interpreter": {
    "hash": "31f2aee4e71d21fbe5cf8b01ff0e069b9275f58929596ceb00d14d90e3e16cd6"
   }
  }
 },
 "nbformat": 4,
 "nbformat_minor": 2
}
