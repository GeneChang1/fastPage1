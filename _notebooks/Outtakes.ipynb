{
 "cells": [
  {
   "cell_type": "markdown",
   "metadata": {},
   "source": [
    "# Psychology and the Good Life\n",
    "\n",
    "- Notes I guess\n",
    "\n",
    "The Video is on a Yale prof. guiding on through the processes that help one through their life: how to live it the most stress free and the happiest. Her main point is the surprise she found surveying the students abroad the campus, the way they made their life worse for themselves. \n",
    "\n",
    "/ One thing that was immediately noticable was the difference between those who worked to improve and those who did not. \n",
    "/ Form an attitude to reduce stress in life. The student environment breeds unhealthy behavior. \n",
    "/ Strive for greatness, don't let the expectations of others get you down \n",
    "/ Focus, ask questions, and take the most out of the time given to you\n",
    "/ \n",
    "\n",
    "- Outtakes: \n",
    "/ Work on focusing during classtime. \n"
   ]
  }
 ],
 "metadata": {
  "language_info": {
   "name": "python"
  },
  "orig_nbformat": 4
 },
 "nbformat": 4,
 "nbformat_minor": 2
}
