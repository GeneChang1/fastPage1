{
 "cells": [
  {
   "cell_type": "markdown",
   "metadata": {},
   "source": [
    "# CollegeBoard Blog Post\n",
    "> stuff\n",
    "\n",
    "- title: CollegeBoard\n",
    "- toc: true\n",
    "- comments: true\n",
    "- categories: [collegeboard]\n",
    "- tags: [Java]"
   ]
  },
  {
   "cell_type": "markdown",
   "metadata": {},
   "source": [
    "## Collaboration Quiz\n",
    "> Score: 3/3\n",
    "- This quiz was particularly easy, the large idea was more abstract and subjective. Because of this,\n",
    "\n",
    "## Program Function and Purpose Quiz\n",
    "> Score: 6/6\n",
    "- This was the hardest quiz for sure. The fifth question had some code that was pretty difficult to understand but once I realized how ti worked it was pretty cool. Also in general the code language is a little weird. The way they set variables and print stuff. It seems like they changed a lot of stuff just for the sake of changing it and in turn made it worse. Overall though it was still easy. \n",
    "\n",
    "## Program Design and Development Quiz\n",
    "> Score: 3/3\n",
    "- This quiz was pretty easy overall. The only thing that I was confused on is that indexes for collegeboard start at 1. This means that arrays start at 1 and not zero so one question about switching the valuesin an array was a little weird. \n"
   ]
  }
 ],
 "metadata": {
  "kernelspec": {
   "display_name": "Python 3.8.9 64-bit",
   "language": "python",
   "name": "python3"
  },
  "language_info": {
   "name": "python",
   "version": "3.8.9"
  },
  "orig_nbformat": 4,
  "vscode": {
   "interpreter": {
    "hash": "31f2aee4e71d21fbe5cf8b01ff0e069b9275f58929596ceb00d14d90e3e16cd6"
   }
  }
 },
 "nbformat": 4,
 "nbformat_minor": 2
}
