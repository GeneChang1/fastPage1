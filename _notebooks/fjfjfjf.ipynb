{
 "cells": [
  {
   "cell_type": "markdown",
   "metadata": {},
   "source": [
    "# CollegeBoard Blog Post\n",
    "> stuff\n",
    "\n",
    "\n",
    "- title: CollegeBoard\n",
    "- toc: true\n",
    "- comments: true\n",
    "- categories: [collegeboard]\n",
    "- tags: [collegeboard]"
   ]
  },
  {
   "cell_type": "markdown",
   "metadata": {},
   "source": [
    "\n"
   ]
  },
  {
   "cell_type": "markdown",
   "metadata": {},
   "source": [
    "\n",
    "\n",
    "## Collaboration Quiz\n",
    "> Score: 3/3\n",
    "- This quiz was particularly easy, the large idea was more abstract and subjective. Because of this, the quiz offered basic, almost common sense. The quiz offered insights into the benefits of having a dynamic and diverse team, along with the benefits of communication and cohesion between teammates. Because of this, it offered a good leeway into the actual content of the lessons ahead. \n",
    "\n",
    "## Program Function and Purpose Quiz\n",
    "> Score: 6/6\n",
    "- The quiz was kind of convoluted and made difficult for the sake of being difficult. The code was not optimized at all but in the end simple. It was also in this weird scratch/code.org type of style that made it hard to think through the code. It would have been easier with the base code instead of the weird blocky objects. \n",
    "\n",
    "## Program Design and Development Quiz\n",
    "> Score: 3/3\n",
    "- Collegeboard seems to start at index 1 instead of index 0, which offered some confusion. Other than that, the 3 question quiz was pretty straightforward. \n",
    "\n",
    "## CollegeBoard Final Exam \n",
    "> Score 47/50 \n",
    "- The final test was relatively easy compared to the coding done in our final project for Night At the Museum. In terms of vocabulary and study, it was easy for us to understand most of what collegeboard was talking about. Working as a group, we were able to discuss our answers with each other, which helped with collaboration and thinking. However, there were some questions that we had increased dialogue in: \n",
    "\n",
    "\n",
    ">Question 27 \n",
    "- This question was about what data could be represented with binary code. \n",
    "- This one confused us at first because most things in their intermediate forms are impossible to store in binary, but we realized that all data is eventually stored as binary, so we picked D \n",
    "\n",
    ">Question 17\n",
    "- This question was about open protocols \n",
    "- This confused us because most of us didn't know what an open protocol was, but Nathan remembered the definition and it was smooth sailing from there. \n",
    "\n",
    ">Question 18 \n",
    "- This question was about the world wide web \n",
    "- This one was just a general miscommunication about the web that was sorted and marked correct. \n",
    "\n",
    ">Question 16 \n",
    "- The question was about packets \n",
    "- Same as above, mostly. \n",
    "\n",
    "## Incorrect Questions: \n",
    ">3/50 were incorrect \n",
    "\n",
    ">"
   ]
  }
 ],
 "metadata": {
  "kernelspec": {
   "display_name": "Python 3.8.9 64-bit",
   "language": "python",
   "name": "python3"
  },
  "language_info": {
   "name": "python",
   "version": "3.8.9"
  },
  "orig_nbformat": 4,
  "vscode": {
   "interpreter": {
    "hash": "31f2aee4e71d21fbe5cf8b01ff0e069b9275f58929596ceb00d14d90e3e16cd6"
   }
  }
 },
 "nbformat": 4,
 "nbformat_minor": 2
}
