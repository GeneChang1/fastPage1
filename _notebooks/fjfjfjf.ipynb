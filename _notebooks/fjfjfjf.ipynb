{
 "cells": [
  {
   "cell_type": "markdown",
   "metadata": {},
   "source": [
    "# CollegeBoard Blog Post\n",
    "> stuff\n",
    "\n",
    "- title: CollegeBoard\n",
    "- toc: true\n",
    "- comments: true\n",
    "- categories: [collegeboard]\n",
    "- tags: [collegeboard]"
   ]
  },
  {
   "cell_type": "markdown",
   "metadata": {},
   "source": []
  },
  {
   "cell_type": "markdown",
   "metadata": {},
   "source": [
    "## Collaboration Quiz\n",
    "> Score: 3/3\n",
    "- This quiz was particularly easy, the large idea was more abstract and subjective. Because of this, the quiz offered basic, almost common sense. The quiz offered insights into the benefits of having a dynamic and diverse team, along with the benefits of communication and cohesion between teammates. Because of this, it offered a good leeway into the actual content of the lessons ahead. \n",
    "\n",
    "## Program Function and Purpose Quiz\n",
    "> Score: 6/6\n",
    "- The quiz was kind of convoluted and made difficult for the sake of being difficult. The code was not optimized at all but in the end simple. It was also in this weird scratch/code.org type of style that made it hard to think through the code. It would have been easier with the base code instead of the weird blocky objects. \n",
    "\n",
    "## Program Design and Development Quiz\n",
    "> Score: 3/3\n",
    "- Collegeboard seems to start at index 1 instead of index 0, which offered some confusion. Other than that, the 3 question quiz was pretty straightforward. \n"
   ]
  }
 ],
 "metadata": {
  "kernelspec": {
   "display_name": "Python 3.8.9 64-bit",
   "language": "python",
   "name": "python3"
  },
  "language_info": {
   "name": "python",
   "version": "3.8.9"
  },
  "orig_nbformat": 4,
  "vscode": {
   "interpreter": {
    "hash": "31f2aee4e71d21fbe5cf8b01ff0e069b9275f58929596ceb00d14d90e3e16cd6"
   }
  }
 },
 "nbformat": 4,
 "nbformat_minor": 2
}
