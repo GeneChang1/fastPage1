{
 "cells": [
  {
   "attachments": {},
   "cell_type": "markdown",
   "metadata": {},
   "source": [
    "# 3.16 Lesson\n",
    "> Lesson about simulations and what they're used for \n",
    "\n",
    "- layout: default\n",
    "- toc: true\n",
    "- badges: false\n",
    "- comments: true\n",
    "- categories: [lesson]"
   ]
  },
  {
   "attachments": {},
   "cell_type": "markdown",
   "metadata": {},
   "source": [
    "# First Order of Business: Get your notebook \n",
    "\n",
    "- Open a terminal in vscode, run command: cd _notebooks, type 'wget' and paste this link into said terminal and run it \n",
    "\n",
    "- Take notes wherever you please, but you will be graded on participating "
   ]
  },
  {
   "attachments": {},
   "cell_type": "markdown",
   "metadata": {},
   "source": [
    "# So, what is a simulation anyway? \n",
    "\n",
    "- A simulation is a tested scenario used for viewing results/outputs to prepare for them in real world situations \n",
    "\n",
    "- These can be used for games like dice rolling, spinners, etc \n",
    "\n",
    "- These can be used for practical things such as building structures, testing car crashes, and other things before engaging in them in the real world \n",
    "\n",
    "- These simulations can have the option of obeying real world physics (Gravity, collision) or they can go against these norms since this is a fictitious scenario, and couldn't happen in real life"
   ]
  },
  {
   "attachments": {},
   "cell_type": "markdown",
   "metadata": {},
   "source": [
    "# Big Question \n",
    "\n",
    "- Which of the following simulations could be the LEAST useful? \n",
    "\n",
    "- A retailer trying to identify which products sold the most \n",
    "- A restaurant determining the efficiency of robots \n",
    "- An insurance company studying the rain impact of cars \n",
    "- A sports bike company studying design changes to their new bike design \n",
    "\n",
    "\n",
    "\n",
    "- If you guessed a bike company, you're wrong, because the retail simulation was the right answer. Simulating robots in food service, sudying rain impact on vehicles, and new bike design can contribute a lot more to society in comparison to seeing what products sell more than others. \n"
   ]
  },
  {
   "attachments": {},
   "cell_type": "markdown",
   "metadata": {},
   "source": [
    "# Next Big Question \n",
    "\n",
    "If you were making a simulation for making a new train station, which of the following would be true about this simulation? \n",
    "\n",
    "- It could reveal potential problems/safety issues before construction starts \n",
    "- It cannot be used to test the train station in different weather \n",
    "- Simulation will add high costs to projects \n",
    "- Simulation is not needed because this train station already exists  \n",
    "\n",
    "\n",
    "\n",
    "\n",
    "- Potential Saftey was the right answer, because you need somewhere to test the safety and ethicness of what you're about to do before you start building it. Otherwise, let's just say you'll have a special plaque for FBI's Most Wanted\n"
   ]
  },
  {
   "attachments": {},
   "cell_type": "markdown",
   "metadata": {},
   "source": [
    "# Simulation 1: \n",
    "\n",
    "Both programs below do the same thing. Given a height and a weight, they calculate how long it will take for a object to fall to the ground in a vacuum subjected to normal Earth levels of gravity. \n",
    "\n",
    "However, the second one is a simulation. It calculates the distance the object has fallen every 0.1 seconds. This is useful for if you wanted a visual representation of a falling object, which pure math can't do as smoothly. "
   ]
  },
  {
   "cell_type": "code",
   "execution_count": 1,
   "metadata": {},
   "outputs": [
    {
     "ename": "ValueError",
     "evalue": "could not convert string to float: ''",
     "output_type": "error",
     "traceback": [
      "\u001b[0;31m---------------------------------------------------------------------------\u001b[0m",
      "\u001b[0;31mValueError\u001b[0m                                Traceback (most recent call last)",
      "\u001b[1;32m/Users/genechang/fastPage1/_notebooks/2022-12-12-Simulations.ipynb Cell 7\u001b[0m in \u001b[0;36m<cell line: 1>\u001b[0;34m()\u001b[0m\n\u001b[0;32m----> <a href='vscode-notebook-cell:/Users/genechang/fastPage1/_notebooks/2022-12-12-Simulations.ipynb#W6sZmlsZQ%3D%3D?line=0'>1</a>\u001b[0m height \u001b[39m=\u001b[39m \u001b[39mfloat\u001b[39;49m(\u001b[39minput\u001b[39;49m(\u001b[39m\"\u001b[39;49m\u001b[39mheight in meters?\u001b[39;49m\u001b[39m\"\u001b[39;49m))\n\u001b[1;32m      <a href='vscode-notebook-cell:/Users/genechang/fastPage1/_notebooks/2022-12-12-Simulations.ipynb#W6sZmlsZQ%3D%3D?line=2'>3</a>\u001b[0m weight \u001b[39m=\u001b[39m \u001b[39minput\u001b[39m(\u001b[39m\"\u001b[39m\u001b[39mweight in pounds?\u001b[39m\u001b[39m\"\u001b[39m)\n\u001b[1;32m      <a href='vscode-notebook-cell:/Users/genechang/fastPage1/_notebooks/2022-12-12-Simulations.ipynb#W6sZmlsZQ%3D%3D?line=4'>5</a>\u001b[0m stuff \u001b[39m=\u001b[39m (\u001b[39m2\u001b[39m \u001b[39m*\u001b[39m (height \u001b[39m/\u001b[39m \u001b[39m9.8\u001b[39m))\u001b[39m*\u001b[39m\u001b[39m*\u001b[39m(\u001b[39m1\u001b[39m\u001b[39m/\u001b[39m\u001b[39m2\u001b[39m)\n",
      "\u001b[0;31mValueError\u001b[0m: could not convert string to float: ''"
     ]
    }
   ],
   "source": [
    "height = float(input(\"height in meters?\"))\n",
    "\n",
    "weight = input(\"weight in pounds?\")\n",
    "\n",
    "stuff = (2 * (height / 9.8))**(1/2)\n",
    "\n",
    "print(\"It will take\", stuff,\"seconds for an object that weighs\",weight,\"pounds\",\"to fall \",height,\"meters in a vacuum\")"
   ]
  },
  {
   "cell_type": "code",
   "execution_count": null,
   "metadata": {},
   "outputs": [],
   "source": [
    "t = 0\n",
    "g = 0\n",
    "d = 0\n",
    "false = True\n",
    "while false:\n",
    "    t = t + 0.1\n",
    "    d = 9.8 / 2 * (t**2)\n",
    "    if d >= height:\n",
    "        false = False\n",
    "    #print(d) # if you want to print the distance every time it calculates it. Too long to output to a terminal, but this could be useful to display graphically. \n",
    "    #print(t)\n",
    "\n",
    "print(t)\n",
    "print(d)"
   ]
  },
  {
   "attachments": {},
   "cell_type": "markdown",
   "metadata": {},
   "source": [
    "# Simulation 2: \n",
    "\n",
    "- This simulation is made in order to simulate movement on a 2d plane vs a 3d plane.  \n",
    "\n",
    "- How it works: we have multiple variables, if statements and equations under a while command in order to randomy generate steps on a 2d plane. Once it reaches the set destination, it will say that the man made it home after x amount of steps. \n",
    "\n",
    "- For the 3D plane, it takes a lot longer due to how big and open the 3d environment is, so there are more if statements in the 3d plane \n",
    "\n",
    "(explain further)\n",
    "\n"
   ]
  },
  {
   "cell_type": "code",
   "execution_count": null,
   "metadata": {},
   "outputs": [],
   "source": [
    "import random\n",
    "x = 0\n",
    "y = 0\n",
    "nights = 0\n",
    "turn = 0\n",
    "stopped = 0\n",
    "turns = []\n",
    "\n",
    "while (nights < 100):\n",
    "    step = random.randrange(4)\n",
    "    if step == 0:\n",
    "        x = x+1\n",
    "    if step == 1:\n",
    "        x = x-1\n",
    "    if step == 2:\n",
    "        y = y+1\n",
    "    if step == 3:\n",
    "        y = y-1\n",
    "\n",
    "    turn = turn + 1\n",
    "\n",
    "    if x == 0 and y == 0:\n",
    "        nights = nights + 1\n",
    "        print(\"The Man Has Made It Home After \", turn, \"Turns\")\n",
    "        turns.append(turn)\n",
    "        turn = 0\n",
    "    if turn/1000 % 1000 == 0 and x + y != 0:\n",
    "        print(\"(\", x,y, \")\")\n",
    "    if (turn > 10000000):\n",
    "        stopped = stopped + 1\n",
    "        turn = 0\n",
    "        x = 0\n",
    "        y = 0\n",
    "        nights = nights + 1\n",
    "        print(\"Caped\")\n",
    "\n",
    "average = sum(turns) / len(turns)\n",
    "print(\"Avaerage\", average, \"Ones that when't too long \", stopped)"
   ]
  },
  {
   "cell_type": "code",
   "execution_count": null,
   "metadata": {},
   "outputs": [],
   "source": [
    "import random\n",
    "x = 0\n",
    "y = 0\n",
    "z = 0\n",
    "nights = 0\n",
    "turn = 0\n",
    "stopped = 0\n",
    "turns = []\n",
    "\n",
    "while (nights < 100):\n",
    "    #rando movement\n",
    "    step = random.randrange(6)\n",
    "    if step == 0:\n",
    "        x = x+1\n",
    "    if step == 1:\n",
    "        x = x-1\n",
    "    if step == 2:\n",
    "        y = y+1\n",
    "    if step == 3:\n",
    "        y = y-1\n",
    "    if step == 4:\n",
    "        z = z+1\n",
    "    if step == 5:\n",
    "        z = z-1\n",
    "    #Turn counter\n",
    "    turn = turn + 1\n",
    "    #Goal check\n",
    "    if x == 0 and y == 0 and z == 0:\n",
    "        nights = nights + 1\n",
    "        print(\"The Bird Has Made It Home After \", turn, \"Turns\")\n",
    "        turns.append(turn)\n",
    "        turn = 0\n",
    "    if turn/1000 % 1000 == 0 and x + y + z != 0:\n",
    "        print(\"(\", x,y, \") \",\"| \", z)\n",
    "    #Too long Stoper\n",
    "    if (turn > 10000000):\n",
    "        stopped = stopped + 1\n",
    "        turn = 0\n",
    "        x = 0\n",
    "        y = 0\n",
    "        z = 0\n",
    "        nights = nights + 1\n",
    "        print(\"Caped\")\n",
    "\n",
    "average = sum(turns) / len(turns)\n",
    "print(\"Avaerage\", average,\"Ones that when't too long \", stopped)"
   ]
  },
  {
   "attachments": {},
   "cell_type": "markdown",
   "metadata": {},
   "source": [
    "# Simulations in the wild\n",
    "\n",
    "Simulations are used extremely frequently in real life applications. One of the most common examples of simulations are video games. A games physics engine can accurately simulate objects colliding \n",
    "\n",
    "Another example is Blender, the software used in 3d animations class, here at Del Norte. Blender is made up of many small simulations, but one big one it uses is simulating the way light bounces off of and interacts with objects. "
   ]
  },
  {
   "attachments": {},
   "cell_type": "markdown",
   "metadata": {},
   "source": [
    "# HW !!!\n",
    "\n",
    "Create a simulation. It can be anything, just has to simulate something.\n",
    "\n",
    "Some ideas:\n",
    "\n",
    "- Two objects colliding\n",
    "- Gravity on other planets\n",
    "\n",
    "AND\n",
    "\n",
    "Find an example of a simulation in a software/game you use, screenshot, and explain how it is a simulation"
   ]
  },
  {
   "cell_type": "code",
   "execution_count": 3,
   "metadata": {},
   "outputs": [
    {
     "data": {
      "image/png": "[encoded data removed]",
      "text/plain": [
       "<Figure size 432x288 with 1 Axes>"
      ]
     },
     "metadata": {
      "needs_background": "light"
     },
     "output_type": "display_data"
    }
   ],
   "source": [
    "\n",
    "import math\n",
    "import numpy as np\n",
    "import matplotlib.pyplot as plt\n",
    "import matplotlib.animation as animation\n",
    "\n",
    "g = 9.8\n",
    "\n",
    "try:\n",
    "    u = float(input('Initial velocity (m/s): '))\n",
    "    theta = float(input('Enter angle : '))\n",
    "except ValueError:\n",
    "    print('Invalid input.')\n",
    "else:\n",
    "    theta = np.deg2rad(theta)\n",
    "\n",
    "t_flight = 2*u*np.sin(theta)/g\n",
    "t = np.linspace(0, t_flight, 100)\n",
    "x = u*np.cos(theta)*t\n",
    "y = u*np.sin(theta)*t - 0.5*g*t**2\n",
    "\n",
    "fig, ax = plt.subplots()\n",
    "line, = ax.plot(x, y, color='k')\n",
    "\n",
    "xmin = x[0]\n",
    "ymin = y[0]\n",
    "xmax = max(x)\n",
    "ymax = max(y)\n",
    "xysmall = min(xmax,ymax)\n",
    "maxscale = max(xmax,ymax)\n",
    "circle = plt.Circle((xmin, ymin), radius=np.sqrt(xysmall))\n",
    "ax.add_patch(circle)\n",
    "\n",
    "def update(num, x, y, line, circle):\n",
    "    line.set_data(x[:num], y[:num])\n",
    "    circle.center = x[num],y[num]\n",
    "    line.axes.axis([0, max(np.append(x,y)), 0, max(np.append(x,y))])\n",
    "\n",
    "    return line,circle\n",
    "\n",
    "plt.show()"
   ]
  }
 ],
 "metadata": {
  "kernelspec": {
   "display_name": "Python 3.8.9 64-bit",
   "language": "python",
   "name": "python3"
  },
  "language_info": {
   "codemirror_mode": {
    "name": "ipython",
    "version": 3
   },
   "file_extension": ".py",
   "mimetype": "text/x-python",
   "name": "python",
   "nbconvert_exporter": "python",
   "pygments_lexer": "ipython3",
   "version": "3.8.9"
  },
  "orig_nbformat": 4,
  "vscode": {
   "interpreter": {
    "hash": "31f2aee4e71d21fbe5cf8b01ff0e069b9275f58929596ceb00d14d90e3e16cd6"
   }
  }
 },
 "nbformat": 4,
 "nbformat_minor": 2
}
