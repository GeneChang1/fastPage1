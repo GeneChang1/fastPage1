{
 "cells": [
  {
   "cell_type": "markdown",
   "metadata": {},
   "source": [
    "# JavaScript\n",
    "> Quick launch into Variables, Functions, Arrays, IJavaScript HTML, using Jupyter Notebooks\n",
    "\n",
    "- title: Java\n",
    "- toc: true\n",
    "- comments: true\n",
    "- categories: [collegeboard]\n",
    "- tags: [python]\n"
   ]
  },
  {
   "cell_type": "markdown",
   "metadata": {},
   "source": [
    "\n"
   ]
  },
  {
   "cell_type": "markdown",
   "metadata": {},
   "source": [
    "### console.log output\n",
    "Output to console using the classic programming introduction using a \"Hello, World!\" message.     \n"
   ]
  },
  {
   "cell_type": "code",
   "execution_count": 1,
   "metadata": {},
   "outputs": [
    {
     "name": "stdout",
     "output_type": "stream",
     "text": [
      "Hello, World! My name is Gene!\n"
     ]
    }
   ],
   "source": [
    "console.log(\"Hello, World! My name is Gene!\");"
   ]
  },
  {
   "cell_type": "markdown",
   "metadata": {},
   "source": [
    "### console.log output showing use of variable\n"
   ]
  },
  {
   "cell_type": "code",
   "execution_count": 2,
   "metadata": {},
   "outputs": [
    {
     "name": "stdout",
     "output_type": "stream",
     "text": [
      "Hello, World! This is another message\n"
     ]
    }
   ],
   "source": [
    "var msg = \"Hello, World! This is another message\";\n",
    "console.log(msg);"
   ]
  },
  {
   "cell_type": "markdown",
   "metadata": {},
   "source": [
    "### console.log output showing use of a function\n",
    "\n"
   ]
  },
  {
   "cell_type": "code",
   "execution_count": 3,
   "metadata": {},
   "outputs": [
    {
     "name": "stdout",
     "output_type": "stream",
     "text": [
      "Hello, World! This is another message\n"
     ]
    }
   ],
   "source": [
    "function logIt(output) {\n",
    "    console.log(output);\n",
    "}\n",
    "logIt(msg);"
   ]
  },
  {
   "cell_type": "markdown",
   "metadata": {},
   "source": [
    "### Showing reuse of a function\n",
    "\n"
   ]
  },
  {
   "cell_type": "code",
   "execution_count": 4,
   "metadata": {},
   "outputs": [
    {
     "name": "stdout",
     "output_type": "stream",
     "text": [
      "Reuse of logIT\n",
      "HELLO PEOPLE!\n",
      "20258729837579\n"
     ]
    }
   ],
   "source": [
    "console.log(\"Reuse of logIT\")\n",
    "logIt(\"HELLO PEOPLE!\");\n",
    "logIt(20258729837579)"
   ]
  },
  {
   "cell_type": "markdown",
   "metadata": {},
   "source": [
    "### Dynamic or Loosely typed language (string, number)\n"
   ]
  },
  {
   "cell_type": "code",
   "execution_count": 5,
   "metadata": {},
   "outputs": [
    {
     "name": "stdout",
     "output_type": "stream",
     "text": [
      "Looking at dynamic nature of types in JavaScript\n",
      "string ; This is a string\n",
      "number ; 39539\n",
      "object ; [ 1, 2, 3 ]\n"
     ]
    }
   ],
   "source": [
    "function logItType(output) {\n",
    "    console.log(typeof output, \";\", output);\n",
    "}\n",
    "console.log(\"Looking at dynamic nature of types in JavaScript\")\n",
    "logItType(\"This is a string\"); // String\n",
    "logItType(39539);    // Number\n",
    "logItType([1, 2, 3]);  // Object is generic for this Array, which similar to Python List"
   ]
  },
  {
   "cell_type": "markdown",
   "metadata": {},
   "source": [
    "### Build a Person Function/Class object and JSON\n"
   ]
  },
  {
   "cell_type": "code",
   "execution_count": 6,
   "metadata": {},
   "outputs": [
    {
     "name": "stdout",
     "output_type": "stream",
     "text": [
      "object ; Person { name: 'Mr M', ghID: 'jm1021', classOf: 1977, role: '' }\n",
      "string ; {\"name\":\"Mr M\",\"ghID\":\"jm1021\",\"classOf\":1977,\"role\":\"\"}\n",
      "object ; Person { name: 'Gene', ghID: 'Chflasnk', classOf: 2024, role: '' }\n",
      "string ; {\"name\":\"Gene\",\"ghID\":\"Chflasnk\",\"classOf\":2024,\"role\":\"\"}\n",
      "object ; Person { name: 'Mr M', ghID: 'jm1021', classOf: 1977, role: 'Teacher' }\n",
      "string ; {\"name\":\"Mr M\",\"ghID\":\"jm1021\",\"classOf\":1977,\"role\":\"Teacher\"}\n",
      "object ; Person { name: 'Gene', ghID: 'Chflasnk', classOf: 2024, role: 'Student' }\n",
      "string ; {\"name\":\"Gene\",\"ghID\":\"Chflasnk\",\"classOf\":2024,\"role\":\"Student\"}\n"
     ]
    }
   ],
   "source": [
    "function Person(name, ghID, classOf) {\n",
    "    this.name = name;\n",
    "    this.ghID = ghID;\n",
    "    this.classOf = classOf;\n",
    "    this.role = \"\";\n",
    "}\n",
    "\n",
    "// define a setter for role in Person data\n",
    "Person.prototype.setRole = function(role) {\n",
    "    this.role = role;\n",
    "}\n",
    "\n",
    "// define a JSON conversion \"method\" associated with Person\n",
    "Person.prototype.toJSON = function() {\n",
    "    const obj = {name: this.name, ghID: this.ghID, classOf: this.classOf, role: this.role};\n",
    "    const json = JSON.stringify(obj);\n",
    "    return json;\n",
    "}\n",
    "\n",
    "// make a new Person and assign to variable teacher\n",
    "var teacher = new Person(\"Mr M\", \"jm1021\", 1977);  // object type is easy to work with in JavaScript\n",
    "logItType(teacher);  // before role\n",
    "logItType(teacher.toJSON());  // ok to do this even though role is not yet defined\n",
    "\n",
    "var student = new Person(\"Gene\", \"Chflasnk\", 2024);  // object type is easy to work with in JavaScript\n",
    "logItType(student);  // before role\n",
    "logItType(student.toJSON()); \n",
    "\n",
    "// output of Object and JSON/string associated with Teacher\n",
    "teacher.setRole(\"Teacher\");   // set the role\n",
    "logItType(teacher); \n",
    "logItType(teacher.toJSON());\n",
    "\n",
    "student.setRole(\"Student\");   // set the role\n",
    "logItType(student); \n",
    "logItType(student.toJSON());"
   ]
  },
  {
   "cell_type": "markdown",
   "metadata": {},
   "source": [
    "### Build a Classroom Array/List of Persons and JSON\n",
    "Many key elements are shown again.  New elements include...\n",
    "- <mark>Building an Array</mark>, \"var students\" is an array of many persons\n",
    "- Building a Classroom, this show <mark>forEach iteration</mark> through an array and <mark>.push adding</mark> to an array.  These are key concepts in all programming languages."
   ]
  },
  {
   "cell_type": "code",
   "execution_count": 9,
   "metadata": {},
   "outputs": [
    {
     "name": "stdout",
     "output_type": "stream",
     "text": [
      "object ; [ Person { name: 'Mr M', ghID: 'jm1021', classOf: 1977, role: 'Teacher' },\n",
      "  Person {\n",
      "    name: 'Gene',\n",
      "    ghID: 'GeneChang1',\n",
      "    classOf: 2024,\n",
      "    role: 'Student' },\n",
      "  Person {\n",
      "    name: 'Nathan',\n",
      "    ghID: 'NathanielCapule',\n",
      "    classOf: 2024,\n",
      "    role: 'Student' },\n",
      "  Person { name: 'Caleb', ghID: 'Cydro', classOf: 2024, role: 'Student' },\n",
      "  Person {\n",
      "    name: 'Toby',\n",
      "    ghID: 'TobyLeeder',\n",
      "    classOf: 2024,\n",
      "    role: 'Student' } ]\n",
      "string ; Mr M\n",
      "string ; {\"name\":\"Mr M\",\"ghID\":\"jm1021\",\"classOf\":1977,\"role\":\"Teacher\"}\n",
      "object ; { name: 'Mr M', ghID: 'jm1021', classOf: 1977, role: 'Teacher' }\n"
     ]
    }
   ],
   "source": [
    "var students = [ \n",
    "    new Person(\"Gene\", \"GeneChang1\", 2024),\n",
    "    new Person(\"Nathan\", \"NathanielCapule\", 2024),\n",
    "    new Person(\"Caleb\", \"Cydro\", 2024),\n",
    "    new Person(\"Toby\", \"TobyLeeder\", 2024),\n",
    "];\n",
    "\n",
    "// define a classroom and build Classroom objects and json\n",
    "function Classroom(teacher, students){ // 1 teacher, many student\n",
    "    // start Classroom with Teacher\n",
    "    teacher.setRole(\"Teacher\");\n",
    "    this.teacher = teacher;\n",
    "    this.classroom = [teacher];\n",
    "    // add each Student to Classroom\n",
    "    this.students = students;\n",
    "    this.students.forEach(student => { student.setRole(\"Student\"); this.classroom.push(student); });\n",
    "    // build json/string format of Classroom\n",
    "    this.json = [];\n",
    "    this.classroom.forEach(person => this.json.push(person.toJSON()));\n",
    "}\n",
    "\n",
    "// make a CompSci classroom from formerly defined teacher and students\n",
    "compsci = new Classroom(teacher, students);\n",
    "\n",
    "// output of Objects and JSON in CompSci classroom\n",
    "logItType(compsci.classroom);  // constructed classroom object\n",
    "logItType(compsci.classroom[0].name);  // abstract 1st objects name\n",
    "logItType(compsci.json[0]);  // show json conversion of 1st object to string\n",
    "logItType(JSON.parse(compsci.json[0]));  // show JSON.parse inverse of JSON.stringify"
   ]
  },
  {
   "cell_type": "markdown",
   "metadata": {},
   "source": [
    "### IJavaScript and Table formatting using toHTML method\n"
   ]
  },
  {
   "cell_type": "code",
   "execution_count": 10,
   "metadata": {},
   "outputs": [
    {
     "data": {
      "text/html": [
       "<div style='display:inline-block;border: 2px solid grey;box-shadow: 0.8em 0.4em 0.4em grey;'><table><tr><th><mark>Name</mark></th><th><mark>GitHub ID</mark></th><th><mark>Class Of</mark></th><th><mark>Role</mark></th></tr><tr><td>Mr M</td><td>jm1021</td><td>1977</td><td>Teacher</td><tr><tr><td>Gene</td><td>GeneChang1</td><td>2024</td><td>Student</td><tr><tr><td>Nathan</td><td>NathanielCapule</td><td>2024</td><td>Student</td><tr><tr><td>Caleb</td><td>Cydro</td><td>2024</td><td>Student</td><tr><tr><td>Toby</td><td>TobyLeeder</td><td>2024</td><td>Student</td><tr></table></div>"
      ]
     },
     "execution_count": 10,
     "metadata": {},
     "output_type": "execute_result"
    }
   ],
   "source": [
    "Classroom.prototype._toHtml = function() {\n",
    "  // HTML Style is build using inline structure\n",
    "  var style = (\n",
    "    \"display:inline-block;\" +\n",
    "    \"border: 2px solid grey;\" +\n",
    "    \"box-shadow: 0.8em 0.4em 0.4em grey;\"\n",
    "  );\n",
    "\n",
    "  // HTML Body of Table is build as a series of concatenations (+=)\n",
    "  var body = \"\";\n",
    "  // Heading for Array Columns\n",
    "  body += \"<tr>\";\n",
    "  body += \"<th><mark>\" + \"Name\" + \"</mark></th>\";\n",
    "  body += \"<th><mark>\" + \"GitHub ID\" + \"</mark></th>\";\n",
    "  body += \"<th><mark>\" + \"Class Of\" + \"</mark></th>\";\n",
    "  body += \"<th><mark>\" + \"Role\" + \"</mark></th>\";\n",
    "  body += \"</tr>\";\n",
    "  // Data of Array, iterate through each row of compsci.classroom \n",
    "  for (var row of compsci.classroom) {\n",
    "    // tr for each row, a new line\n",
    "    body += \"<tr>\";\n",
    "    // td for each column of data\n",
    "    body += \"<td>\" + row.name + \"</td>\";\n",
    "    body += \"<td>\" + row.ghID + \"</td>\";\n",
    "    body += \"<td>\" + row.classOf + \"</td>\";\n",
    "    body += \"<td>\" + row.role + \"</td>\";\n",
    "    // tr to end line\n",
    "    body += \"<tr>\";\n",
    "  }\n",
    "\n",
    "   // Build and HTML fragment of div, table, table body\n",
    "  return (\n",
    "    \"<div style='\" + style + \"'>\" +\n",
    "      \"<table>\" +\n",
    "        body +\n",
    "      \"</table>\" +\n",
    "    \"</div>\"\n",
    "  );\n",
    "\n",
    "};\n",
    "\n",
    "// IJavaScript HTML processor receive parameter of defined HTML fragment\n",
    "$$.html(compsci._toHtml());"
   ]
  }
 ],
 "metadata": {
  "kernelspec": {
   "display_name": "JavaScript (Node.js)",
   "language": "javascript",
   "name": "javascript"
  },
  "language_info": {
   "file_extension": ".js",
   "mimetype": "application/javascript",
   "name": "javascript",
   "version": "10.13.0"
  },
  "orig_nbformat": 4
 },
 "nbformat": 4,
 "nbformat_minor": 2
}
