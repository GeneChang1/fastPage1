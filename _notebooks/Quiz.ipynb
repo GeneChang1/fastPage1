{
 "cells": [
  {
   "cell_type": "markdown",
   "metadata": {},
   "source": [
    "# Nathan's Magnificent Quiz\n",
    "> It is not actually Nathan's Quiz\n",
    "> It is your mom's quiz \n",
    "> I love you nathan "
   ]
  },
  {
   "cell_type": "code",
   "execution_count": 13,
   "metadata": {},
   "outputs": [
    {
     "name": "stdout",
     "output_type": "stream",
     "text": [
      "Incorrect!\n"
     ]
    }
   ],
   "source": [
    "#this is the week 1 assignment \n",
    "\n",
    "score = []\n",
    "scoresDict = {\"import\":10, \"if\":20, \"expression\":30}\n",
    "for keys in scoresDict.keys():\n",
    "    answer1 = input(\"What command is used to include other functions that were previously developed?\")\n",
    "    if answer1 == \"import\":\n",
    "        score.append(scoresDict[\"import\"])\n",
    "    else:\n",
    "        print(\"Incorrect!\")\n",
    "    answer2 = input(\"What command is used to evaluate correct or incorrect response in this example?\")\n",
    "    if answer2 == \"import\":\n",
    "        score.append(scoresDict[\"import\"])\n",
    "    else:\n",
    "        print(\"Incorrect!\")\n",
    "    answer3 = input(\"What command is used to include other functions that were previously developed?\")\n",
    "    if answer3 == \"import\":\n",
    "        score.append(scoresDict[\"import\"])\n",
    "    else:\n",
    "        print(\"Incorrect!\")\n",
    "print(\"Your score is\", sum(score))\n",
    "\n",
    "\n",
    "def = questionResponse(prompt):\n",
    "    "
   ]
  },
  {
   "cell_type": "markdown",
   "metadata": {},
   "source": [
    "You could also do as such: \n",
    "\n"
   ]
  },
  {
   "cell_type": "code",
   "execution_count": null,
   "metadata": {},
   "outputs": [],
   "source": [
    "import getpass, sys\n",
    "\n",
    "def question_with_response(prompt):\n",
    "    print(\"Question: \" + prompt)\n",
    "    msg = input()\n",
    "    return msg\n",
    "\n",
    "questions = 3\n",
    "correct = 0\n",
    "\n",
    "print('Hello, ' + getpass.getuser() + \" running \" + sys.executable)\n",
    "print(\"You will be asked \" + str(questions) + \" questions.\")\n",
    "question_and_answer(\"Are you ready to take a test?\")\n",
    "\n",
    "rsp = question_with_response(\"What command is used to include other functions that were previously developed?\")\n",
    "if rsp == \"import\":\n",
    "    print(rsp + \" is correct!\")\n",
    "    correct += 1\n",
    "else:\n",
    "    print(rsp + \" is incorrect!\")\n",
    "\n",
    "rsp = question_with_response(\"What command is used to evaluate correct or incorrect response in this example?\")\n",
    "if rsp == \"if\":\n",
    "    print(rsp + \" is correct!\")\n",
    "    correct += 1\n",
    "else:\n",
    "    print(rsp + \" is incorrect!\")\n",
    "\n",
    "rsp = question_with_response(\"Each 'if' command contains an '_________' to determine a true or false condition?\")\n",
    "if rsp == \"expression\":\n",
    "    print(rsp + \" is correct!\")\n",
    "    correct += 1\n",
    "else:\n",
    "    print(rsp + \" is incorrect!\")\n",
    "\n",
    "print(getpass.getuser() + \" you scored \" + str(correct) +\"/\" + str(questions))\n"
   ]
  }
 ],
 "metadata": {
  "kernelspec": {
   "display_name": "Python 3.8.9 64-bit",
   "language": "python",
   "name": "python3"
  },
  "language_info": {
   "codemirror_mode": {
    "name": "ipython",
    "version": 3
   },
   "file_extension": ".py",
   "mimetype": "text/x-python",
   "name": "python",
   "nbconvert_exporter": "python",
   "pygments_lexer": "ipython3",
   "version": "3.8.9"
  },
  "orig_nbformat": 4,
  "vscode": {
   "interpreter": {
    "hash": "31f2aee4e71d21fbe5cf8b01ff0e069b9275f58929596ceb00d14d90e3e16cd6"
   }
  }
 },
 "nbformat": 4,
 "nbformat_minor": 2
}
