{
 "cells": [
  {
   "cell_type": "markdown",
   "metadata": {},
   "source": [
    "# Nathan's Magnificent Quiz\n",
    "> It is not actually Nathan's Quiz\n",
    "> It is your mom's quiz \n",
    "> I love you nathan "
   ]
  },
  {
   "cell_type": "code",
   "execution_count": 13,
   "metadata": {},
   "outputs": [
    {
     "name": "stdout",
     "output_type": "stream",
     "text": [
      "Incorrect!\n"
     ]
    }
   ],
   "source": [
    "#this is the week 1 assignment \n",
    "\n",
    "score = []\n",
    "scoresDict = {\"import\":10, \"if\":20, \"expression\":30}\n",
    "for keys in scoresDict.keys():\n",
    "    answer1 = input(\"What command is used to include other functions that were previously developed?\")\n",
    "    if answer1 == \"import\":\n",
    "        score.append(scoresDict[\"import\"])\n",
    "    else:\n",
    "        print(\"Incorrect!\")\n",
    "    answer2 = input(\"What command is used to evaluate correct or incorrect response in this example?\")\n",
    "    if answer2 == \"if\":\n",
    "        score.append(scoresDict[\"if\"])\n",
    "    else:\n",
    "        print(\"Incorrect!\")\n",
    "    answer3 = input(\"Each 'if' command contains an '_________' to determine a true or false condition?\")\n",
    "    if answer3 == \"expression\":\n",
    "        score.append(scoresDict[\"expression\"])\n",
    "    else:\n",
    "        print(\"Incorrect!\")\n",
    "print(\"Your score is\", sum(score))\n",
    "\n",
    "\n",
    "def = questionResponse(prompt):\n",
    "    "
   ]
  },
  {
   "cell_type": "markdown",
   "metadata": {},
   "source": [
    "You could also do as such: \n",
    "\n"
   ]
  },
  {
   "cell_type": "code",
   "execution_count": 2,
   "metadata": {},
   "outputs": [
    {
     "name": "stdout",
     "output_type": "stream",
     "text": [
      "Hello, genechang running /Library/Developer/CommandLineTools/usr/bin/python3\n",
      "You will be asked 3 questions.\n",
      "Are you ready to take a test?\n",
      "Question: What command is used to include other functions that were previously developed?\n"
     ]
    }
   ],
   "source": [
    "import getpass, sys\n",
    "\n",
    "def question_with_response(prompt):\n",
    "    print(\"Question: \" + prompt)\n",
    "    msg = input()\n",
    "    return msg\n",
    "\n",
    "questions = 3\n",
    "correct = 0\n",
    "\n",
    "print('Hello, ' + getpass.getuser() + \" running \" + sys.executable)\n",
    "print(\"You will be asked \" + str(questions) + \" questions.\")\n",
    "print (\"Are you ready to take a test?\")\n",
    "\n",
    "rsp = question_with_response(\"What command is used to include other functions that were previously developed?\")\n",
    "if rsp == \"import\":\n",
    "    print(rsp + \" is correct!\")\n",
    "    correct += 1\n",
    "else:\n",
    "    print(rsp + \" is incorrect!\")\n",
    "\n",
    "rsp = question_with_response(\"What command is used to evaluate correct or incorrect response in this example?\")\n",
    "if rsp == \"if\":\n",
    "    print(rsp + \" is correct!\")\n",
    "    correct += 1\n",
    "else:\n",
    "    print(rsp + \" is incorrect!\")\n",
    "\n",
    "rsp = question_with_response(\"Each 'if' command contains an '_________' to determine a true or false condition?\")\n",
    "if rsp == \"expression\":\n",
    "    print(rsp + \" is correct!\")\n",
    "    correct += 1\n",
    "else:\n",
    "    print(rsp + \" is incorrect!\")\n",
    "\n",
    "print(getpass.getuser() + \" you scored \" + str(correct) +\"/\" + str(questions))\n"
   ]
  },
  {
   "cell_type": "markdown",
   "metadata": {},
   "source": [
    "A few alternatives to making a quiz: "
   ]
  },
  {
   "cell_type": "code",
   "execution_count": null,
   "metadata": {},
   "outputs": [],
   "source": [
    "# score = []\n",
    "# scoresDict = {\"Vatican City\":200, \"Okazaki\":400, \"Gandalf\":100, \"Asia\":200}\n",
    "\n",
    "# answer1 = input(\"What is the smallest country?\").capitalize()\n",
    "# if answer1 == \"Vatican City\":\n",
    "#   score.append(scoresDict[\"Vatican City\"])\n",
    "# else: \n",
    "#   score.append(score - 100)\n",
    "# print(\"Your score is\", score[0])\n",
    "\n",
    "# answer2 = input(\"What are the fragments of DNA in replication called?\").capitalize()\n",
    "# if answer1 == \"Okazaki\":\n",
    "#   score.append(score[0] + scoresDict[\"Okazaki\"])\n",
    "#   score.pop(0)\n",
    "# else: \n",
    "#   score.append(score[0] - 100)\n",
    "#   score.pop(0)\n",
    "# print(\"Your score is\", score[0])"
   ]
  },
  {
   "cell_type": "code",
   "execution_count": null,
   "metadata": {},
   "outputs": [],
   "source": [
    "# TODO1. Give the user 5 chances of guessing the secret word. \n",
    "# answer = (input(\"What is the secret word? \")).capitalize()\n",
    "guesses = 5\n",
    "# while guesses > 0:\n",
    "#   answer = (input(\"What is the word? \")).capitalize()\n",
    "#   if answer == secretWord:\n",
    "#     print (\"You win!\")\n",
    "#     break\n",
    "#   else: \n",
    "#     print (\"You lose, try again!\")\n",
    "\n",
    "#     guesses -= 1\n",
    "# else: \n",
    "#   print(\"Game over\")\n",
    "\n",
    "  # # Store a number inside a variable (lucky number)\n",
    "# # Get the user's favorite number and store it\n",
    "# # Check if the user has the same facorite number as you\n",
    "# luckyNumber = 7\n",
    "# answer = int(input(\"What do you think the lucky number is?\"))\n",
    "# if answer > luckyNumber:\n",
    "#   print(\"Too high!\")\n",
    "# elif answer < luckyNumber:\n",
    "#   print(\"Too low!\")\n",
    "# else: \n",
    "#   print(\"Good job!\")"
   ]
  }
 ],
 "metadata": {
  "kernelspec": {
   "display_name": "Python 3.8.9 64-bit",
   "language": "python",
   "name": "python3"
  },
  "language_info": {
   "codemirror_mode": {
    "name": "ipython",
    "version": 3
   },
   "file_extension": ".py",
   "mimetype": "text/x-python",
   "name": "python",
   "nbconvert_exporter": "python",
   "pygments_lexer": "ipython3",
   "version": "3.8.9"
  },
  "orig_nbformat": 4,
  "vscode": {
   "interpreter": {
    "hash": "31f2aee4e71d21fbe5cf8b01ff0e069b9275f58929596ceb00d14d90e3e16cd6"
   }
  }
 },
 "nbformat": 4,
 "nbformat_minor": 2
}
