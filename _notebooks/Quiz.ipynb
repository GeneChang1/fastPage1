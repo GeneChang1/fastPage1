{
 "cells": [
  {
   "cell_type": "markdown",
   "metadata": {},
   "source": [
    "# Nathan's Magnificent Quiz\n",
    "> It is not actually Nathan's Quiz\n",
    "> It is your mom's quiz \n",
    "> I love you nathan "
   ]
  },
  {
   "cell_type": "code",
   "execution_count": 13,
   "metadata": {},
   "outputs": [
    {
     "name": "stdout",
     "output_type": "stream",
     "text": [
      "Incorrect!\n"
     ]
    }
   ],
   "source": [
    "#this is the week 1 assignment \n",
    "\n",
    "score = []\n",
    "scoresDict = {\"import\":10, \"if\":20, \"expression\":30}\n",
    "for keys in scoresDict.keys():\n",
    "    answer1 = input(\"What command is used to include other functions that were previously developed?\")\n",
    "    if answer1 == \"import\":\n",
    "        score.append(scoresDict[\"import\"])\n",
    "    else:\n",
    "        print(\"Incorrect!\")\n",
    "    answer2 = input(\"What command is used to evaluate correct or incorrect response in this example?\")\n",
    "    if answer2 == \"import\":\n",
    "        score.append(scoresDict[\"import\"])\n",
    "    else:\n",
    "        print(\"Incorrect!\")\n",
    "    answer3 = input(\"What command is used to include other functions that were previously developed?\")\n",
    "    if answer3 == \"import\":\n",
    "        score.append(scoresDict[\"import\"])\n",
    "    else:\n",
    "        print(\"Incorrect!\")\n",
    "print(\"Your score is\", sum(score))\n",
    "\n",
    "\n",
    "def = questionResponse(prompt):\n",
    "    "
   ]
  },
  {
   "cell_type": "markdown",
   "metadata": {},
   "source": []
  }
 ],
 "metadata": {
  "kernelspec": {
   "display_name": "Python 3.8.9 64-bit",
   "language": "python",
   "name": "python3"
  },
  "language_info": {
   "codemirror_mode": {
    "name": "ipython",
    "version": 3
   },
   "file_extension": ".py",
   "mimetype": "text/x-python",
   "name": "python",
   "nbconvert_exporter": "python",
   "pygments_lexer": "ipython3",
   "version": "3.8.9"
  },
  "orig_nbformat": 4,
  "vscode": {
   "interpreter": {
    "hash": "31f2aee4e71d21fbe5cf8b01ff0e069b9275f58929596ceb00d14d90e3e16cd6"
   }
  }
 },
 "nbformat": 4,
 "nbformat_minor": 2
}
